{
 "cells": [
  {
   "cell_type": "code",
   "execution_count": 3,
   "metadata": {},
   "outputs": [],
   "source": [
    "library(repr)\n",
    "\n",
    "# Muda o tamanho plot size to 8 x 3\n",
    "# options(repr.plot.width=4, repr.plot.height=3)\n",
    "# curve(sin(x), from = 0, to=4*pi, n = 200)"
   ]
  },
  {
   "cell_type": "code",
   "execution_count": 2,
   "metadata": {},
   "outputs": [
    {
     "name": "stderr",
     "output_type": "stream",
     "text": [
      "Loading required package: lattice\n",
      "Loading required package: survival\n",
      "Loading required package: Formula\n",
      "Loading required package: ggplot2\n",
      "\n",
      "Attaching package: ‘Hmisc’\n",
      "\n",
      "The following objects are masked from ‘package:base’:\n",
      "\n",
      "    format.pval, units\n",
      "\n"
     ]
    }
   ],
   "source": [
    "library(Hmisc)"
   ]
  },
  {
   "cell_type": "code",
   "execution_count": 8,
   "metadata": {},
   "outputs": [
    {
     "data": {},
     "metadata": {},
     "output_type": "display_data"
    }
   ],
   "source": [
    "library(help='datasets')"
   ]
  },
  {
   "cell_type": "code",
   "execution_count": 9,
   "metadata": {
    "scrolled": true
   },
   "outputs": [
    {
     "data": {
      "text/plain": [
       "aux \n",
       "\n",
       " 4  Variables      50  Observations\n",
       "--------------------------------------------------------------------------------\n",
       "Murder \n",
       "       n  missing distinct     Info     Mean      Gmd      .05      .10 \n",
       "      50        0       43        1    7.788    5.022    2.145    2.560 \n",
       "     .25      .50      .75      .90      .95 \n",
       "   4.075    7.250   11.250   13.320   15.400 \n",
       "\n",
       "lowest :  0.8  2.1  2.2  2.6  2.7, highest: 13.2 14.4 15.4 16.1 17.4\n",
       "--------------------------------------------------------------------------------\n",
       "Assault \n",
       "       n  missing distinct     Info     Mean      Gmd      .05      .10 \n",
       "      50        0       45        1    170.8    96.44    50.25    56.90 \n",
       "     .25      .50      .75      .90      .95 \n",
       "  109.00   159.00   249.00   279.60   297.30 \n",
       "\n",
       "lowest :  45  46  48  53  56, highest: 285 294 300 335 337\n",
       "--------------------------------------------------------------------------------\n",
       "UrbanPop \n",
       "       n  missing distinct     Info     Mean      Gmd      .05      .10 \n",
       "      50        0       36    0.999    65.54    16.74    44.00    45.00 \n",
       "     .25      .50      .75      .90      .95 \n",
       "   54.50    66.00    77.75    83.20    86.55 \n",
       "\n",
       "lowest : 32 39 44 45 48, highest: 85 86 87 89 91\n",
       "--------------------------------------------------------------------------------\n",
       "Rape \n",
       "       n  missing distinct     Info     Mean      Gmd      .05      .10 \n",
       "      50        0       48        1    21.23    10.48     8.75    10.67 \n",
       "     .25      .50      .75      .90      .95 \n",
       "   15.08    20.10    26.17    32.40    39.74 \n",
       "\n",
       "lowest :  7.3  7.8  8.3  9.3  9.5, highest: 35.1 38.7 40.6 44.5 46.0\n",
       "--------------------------------------------------------------------------------"
      ]
     },
     "metadata": {},
     "output_type": "display_data"
    }
   ],
   "source": [
    "aux <- USArrests\n",
    "describe(aux) \n",
    "# n, ausentes, unicos, mÃ©dia, GMD (medida de dispersÃ£o de Gini), percentis 5,10,25,50,75,90,95o \n",
    "# 5 menores e 5 maiores escores"
   ]
  },
  {
   "cell_type": "code",
   "execution_count": 10,
   "metadata": {},
   "outputs": [
    {
     "data": {
      "text/html": [
       "<table>\n",
       "<thead><tr><th></th><th scope=col>Murder</th><th scope=col>Assault</th><th scope=col>UrbanPop</th><th scope=col>Rape</th></tr></thead>\n",
       "<tbody>\n",
       "\t<tr><th scope=row>Alabama</th><td>13.2</td><td>236 </td><td>58  </td><td>21.2</td></tr>\n",
       "\t<tr><th scope=row>Alaska</th><td>10.0</td><td>263 </td><td>48  </td><td>44.5</td></tr>\n",
       "\t<tr><th scope=row>Arizona</th><td> 8.1</td><td>294 </td><td>80  </td><td>31.0</td></tr>\n",
       "\t<tr><th scope=row>Arkansas</th><td> 8.8</td><td>190 </td><td>50  </td><td>19.5</td></tr>\n",
       "\t<tr><th scope=row>California</th><td> 9.0</td><td>276 </td><td>91  </td><td>40.6</td></tr>\n",
       "\t<tr><th scope=row>Colorado</th><td> 7.9</td><td>204 </td><td>78  </td><td>38.7</td></tr>\n",
       "</tbody>\n",
       "</table>\n"
      ],
      "text/latex": [
       "\\begin{tabular}{r|llll}\n",
       "  & Murder & Assault & UrbanPop & Rape\\\\\n",
       "\\hline\n",
       "\tAlabama & 13.2 & 236  & 58   & 21.2\\\\\n",
       "\tAlaska & 10.0 & 263  & 48   & 44.5\\\\\n",
       "\tArizona &  8.1 & 294  & 80   & 31.0\\\\\n",
       "\tArkansas &  8.8 & 190  & 50   & 19.5\\\\\n",
       "\tCalifornia &  9.0 & 276  & 91   & 40.6\\\\\n",
       "\tColorado &  7.9 & 204  & 78   & 38.7\\\\\n",
       "\\end{tabular}\n"
      ],
      "text/markdown": [
       "\n",
       "| <!--/--> | Murder | Assault | UrbanPop | Rape | \n",
       "|---|---|---|---|---|---|\n",
       "| Alabama | 13.2 | 236  | 58   | 21.2 | \n",
       "| Alaska | 10.0 | 263  | 48   | 44.5 | \n",
       "| Arizona |  8.1 | 294  | 80   | 31.0 | \n",
       "| Arkansas |  8.8 | 190  | 50   | 19.5 | \n",
       "| California |  9.0 | 276  | 91   | 40.6 | \n",
       "| Colorado |  7.9 | 204  | 78   | 38.7 | \n",
       "\n",
       "\n"
      ],
      "text/plain": [
       "           Murder Assault UrbanPop Rape\n",
       "Alabama    13.2   236     58       21.2\n",
       "Alaska     10.0   263     48       44.5\n",
       "Arizona     8.1   294     80       31.0\n",
       "Arkansas    8.8   190     50       19.5\n",
       "California  9.0   276     91       40.6\n",
       "Colorado    7.9   204     78       38.7"
      ]
     },
     "metadata": {},
     "output_type": "display_data"
    },
    {
     "data": {
      "text/html": [
       "<table>\n",
       "<thead><tr><th></th><th scope=col>Murder</th><th scope=col>Assault</th><th scope=col>UrbanPop</th><th scope=col>Rape</th></tr></thead>\n",
       "<tbody>\n",
       "\t<tr><th scope=row>Vermont</th><td>2.2 </td><td> 48 </td><td>32  </td><td>11.2</td></tr>\n",
       "\t<tr><th scope=row>Virginia</th><td>8.5 </td><td>156 </td><td>63  </td><td>20.7</td></tr>\n",
       "\t<tr><th scope=row>Washington</th><td>4.0 </td><td>145 </td><td>73  </td><td>26.2</td></tr>\n",
       "\t<tr><th scope=row>West Virginia</th><td>5.7 </td><td> 81 </td><td>39  </td><td> 9.3</td></tr>\n",
       "\t<tr><th scope=row>Wisconsin</th><td>2.6 </td><td> 53 </td><td>66  </td><td>10.8</td></tr>\n",
       "\t<tr><th scope=row>Wyoming</th><td>6.8 </td><td>161 </td><td>60  </td><td>15.6</td></tr>\n",
       "</tbody>\n",
       "</table>\n"
      ],
      "text/latex": [
       "\\begin{tabular}{r|llll}\n",
       "  & Murder & Assault & UrbanPop & Rape\\\\\n",
       "\\hline\n",
       "\tVermont & 2.2  &  48  & 32   & 11.2\\\\\n",
       "\tVirginia & 8.5  & 156  & 63   & 20.7\\\\\n",
       "\tWashington & 4.0  & 145  & 73   & 26.2\\\\\n",
       "\tWest Virginia & 5.7  &  81  & 39   &  9.3\\\\\n",
       "\tWisconsin & 2.6  &  53  & 66   & 10.8\\\\\n",
       "\tWyoming & 6.8  & 161  & 60   & 15.6\\\\\n",
       "\\end{tabular}\n"
      ],
      "text/markdown": [
       "\n",
       "| <!--/--> | Murder | Assault | UrbanPop | Rape | \n",
       "|---|---|---|---|---|---|\n",
       "| Vermont | 2.2  |  48  | 32   | 11.2 | \n",
       "| Virginia | 8.5  | 156  | 63   | 20.7 | \n",
       "| Washington | 4.0  | 145  | 73   | 26.2 | \n",
       "| West Virginia | 5.7  |  81  | 39   |  9.3 | \n",
       "| Wisconsin | 2.6  |  53  | 66   | 10.8 | \n",
       "| Wyoming | 6.8  | 161  | 60   | 15.6 | \n",
       "\n",
       "\n"
      ],
      "text/plain": [
       "              Murder Assault UrbanPop Rape\n",
       "Vermont       2.2     48     32       11.2\n",
       "Virginia      8.5    156     63       20.7\n",
       "Washington    4.0    145     73       26.2\n",
       "West Virginia 5.7     81     39        9.3\n",
       "Wisconsin     2.6     53     66       10.8\n",
       "Wyoming       6.8    161     60       15.6"
      ]
     },
     "metadata": {},
     "output_type": "display_data"
    }
   ],
   "source": [
    "head(aux)\n",
    "tail(aux)"
   ]
  },
  {
   "cell_type": "code",
   "execution_count": null,
   "metadata": {
    "scrolled": true
   },
   "outputs": [
    {
     "name": "stderr",
     "output_type": "stream",
     "text": [
      "Installing package into ‘/home/nbuser/R’\n",
      "(as ‘lib’ is unspecified)\n"
     ]
    }
   ],
   "source": [
    "install.packages('pastecs')\n",
    "library(pastecs)\n",
    "stat.desc(aux) \n",
    "# nbr.val, nbr.null, nbr.na, min max, range, sum, \n",
    "# mediana, mÃ©dia, erro padÃ£o da mÃ©dias (SE.mean), intervalo de confianÃ§a da mÃ©dia (CI.mean), \n",
    "# variÃ¢ncia, desvio padrÃ£o, coeficiente de variaÃ§Ã£o"
   ]
  },
  {
   "cell_type": "code",
   "execution_count": null,
   "metadata": {},
   "outputs": [],
   "source": [
    "install.packages('psych')\n",
    "library(psych)\n",
    "describe(aux)\n",
    "# variÃ¡vel, nÃºmero da variÃ¡vel, dados vÃ¡lidos, mÃ©dia, desvio padrÃ£o, \n",
    "# mediana, mÃ©diana dos valores absolutos dos desvios em relaÃ§Ã£o a mediana (mad), min, max, skew, kurtosis, se"
   ]
  },
  {
   "cell_type": "code",
   "execution_count": null,
   "metadata": {
    "scrolled": true
   },
   "outputs": [],
   "source": [
    "hist(aux$Murder)"
   ]
  },
  {
   "cell_type": "code",
   "execution_count": null,
   "metadata": {},
   "outputs": [],
   "source": [
    "library(mlbench)\n",
    "data(PimaIndiansDiabetes)\n",
    "\n",
    "# distribuiÃ§Ã£o para variÃ¡vel categÃ³rica\n",
    "y <- PimaIndiansDiabetes$diabetes\n",
    "cbind(freq=table(y), percentual=prop.table(table(y))*100)"
   ]
  },
  {
   "cell_type": "code",
   "execution_count": null,
   "metadata": {},
   "outputs": [],
   "source": [
    "library(e1071)\n",
    "data(PimaIndiansDiabetes)\n",
    "\n",
    "# Calcula o coeficiente de assimetria\n",
    "skew <- apply(PimaIndiansDiabetes[,1:8], 2, skewness)\n",
    "print(skew)"
   ]
  },
  {
   "cell_type": "code",
   "execution_count": null,
   "metadata": {
    "scrolled": true
   },
   "outputs": [],
   "source": [
    "# Calcula a matriz de correlação\n",
    "correlacoes <- cor(PimaIndiansDiabetes[,1:8])\n",
    "print(correlacoes)"
   ]
  },
  {
   "cell_type": "code",
   "execution_count": null,
   "metadata": {},
   "outputs": [],
   "source": [
    "install.packages('corrplot')\n",
    "library(corrplot)\n",
    "\n",
    "corrplot(correlacoes, method=\"circle\")"
   ]
  },
  {
   "cell_type": "code",
   "execution_count": null,
   "metadata": {},
   "outputs": [],
   "source": []
  },
  {
   "cell_type": "code",
   "execution_count": null,
   "metadata": {},
   "outputs": [],
   "source": []
  },
  {
   "cell_type": "code",
   "execution_count": null,
   "metadata": {},
   "outputs": [],
   "source": []
  },
  {
   "cell_type": "code",
   "execution_count": null,
   "metadata": {},
   "outputs": [],
   "source": []
  },
  {
   "cell_type": "code",
   "execution_count": null,
   "metadata": {},
   "outputs": [],
   "source": []
  },
  {
   "cell_type": "code",
   "execution_count": null,
   "metadata": {},
   "outputs": [],
   "source": []
  },
  {
   "cell_type": "code",
   "execution_count": null,
   "metadata": {},
   "outputs": [],
   "source": [
    "head(cars)"
   ]
  },
  {
   "cell_type": "code",
   "execution_count": null,
   "metadata": {
    "scrolled": true
   },
   "outputs": [],
   "source": [
    "# Introduz outliers nos dados\n",
    "cars1 <- cars[1:30, ]  # Dados originais\n",
    "cars_outliers <- data.frame(speed=c(19,19,20,40,45), dist=c(190, 286, 421, 400, 438))  # Outliers\n",
    "cars2 <- rbind(cars1, cars_outliers)  # Dados com outliers\n",
    "\n",
    "# GrÃ¡fico de dispersÃ£o com outliers\n",
    "par(mfrow=c(1, 2))\n",
    "plot(cars2$speed, cars2$dist, xlim=c(0, 45), ylim=c(0, 500), main=\"Com outliers\", xlab=\"speed\", ylab=\"dist\", pch=\"*\", col=\"red\", cex=2)\n",
    "abline(lm(dist ~ speed, data=cars2), col=\"blue\", lwd=3, lty=2)\n",
    "\n",
    "# GrÃ¡fico de dispersÃ£o sem outliers\n",
    "plot(cars1$speed, cars1$dist, xlim=c(0, 45), ylim=c(0, 500), main=\"Sem outliers\", xlab=\"speed\", ylab=\"dist\", pch=\"*\", col=\"red\", cex=2)\n",
    "abline(lm(dist ~ speed, data=cars1), col=\"blue\", lwd=3, lty=2)"
   ]
  },
  {
   "cell_type": "code",
   "execution_count": null,
   "metadata": {
    "scrolled": true
   },
   "outputs": [],
   "source": [
    "outlier_values <- boxplot.stats(cars2$speed)$out  # Outliers\n",
    "boxplot(cars2$speed, main=\"Speed\", boxwex=0.1)\n",
    "mtext(paste(\"Outliers: \", paste(outlier_values, collapse=\", \")), cex=0.6)"
   ]
  },
  {
   "cell_type": "code",
   "execution_count": null,
   "metadata": {},
   "outputs": [],
   "source": [
    "ks.test(cars1$speed, \"pnorm\")\n",
    "shapiro.test(cars1$speed)"
   ]
  },
  {
   "cell_type": "code",
   "execution_count": null,
   "metadata": {},
   "outputs": [],
   "source": [
    "ks.test(cars2$speed, \"pnorm\")\n",
    "shapiro.test(cars2$speed)"
   ]
  },
  {
   "cell_type": "code",
   "execution_count": null,
   "metadata": {},
   "outputs": [],
   "source": [
    "# Pacote \"Outiers\"\n",
    "library(outliers)\n",
    "\n",
    "set.seed(1234)\n",
    "y=rnorm(100)\n",
    "outlier(y)"
   ]
  },
  {
   "cell_type": "code",
   "execution_count": null,
   "metadata": {},
   "outputs": [],
   "source": [
    "outlier(y,opposite=TRUE)"
   ]
  },
  {
   "cell_type": "code",
   "execution_count": null,
   "metadata": {},
   "outputs": [],
   "source": [
    "dim(y) <- c(20,5)  # Converte uma matriz 20x5\n",
    "outlier(y)"
   ]
  },
  {
   "cell_type": "code",
   "execution_count": null,
   "metadata": {},
   "outputs": [],
   "source": [
    "outlier(y,opposite=TRUE)"
   ]
  },
  {
   "cell_type": "code",
   "execution_count": null,
   "metadata": {},
   "outputs": [],
   "source": [
    "set.seed(1234)\n",
    "x = rnorm(10)\n",
    "\n",
    "scores(x)  # z-scores => (x-mean)/sd\n",
    "scores(x, type=\"chisq\")  # chi-sq scores => (x - mean(x))^2/var(x)"
   ]
  },
  {
   "cell_type": "code",
   "execution_count": null,
   "metadata": {},
   "outputs": [],
   "source": [
    "scores(x, type=\"chisq\", prob=0.95) \n",
    "scores(x, type=\"z\", prob=0.95)  \n",
    "scores(x, type=\"t\", prob=0.95)  "
   ]
  },
  {
   "cell_type": "code",
   "execution_count": null,
   "metadata": {},
   "outputs": [],
   "source": [
    "qqnorm(x)\n",
    "qqline(x)"
   ]
  },
  {
   "cell_type": "code",
   "execution_count": null,
   "metadata": {},
   "outputs": [],
   "source": [
    "ks.test(x, \"pnorm\")\n",
    "shapiro.test(x)"
   ]
  }
 ],
 "metadata": {
  "kernelspec": {
   "display_name": "Python 3",
   "language": "python",
   "name": "python3"
  },
  "language_info": {
   "codemirror_mode": {
    "name": "ipython",
    "version": 3
   },
   "file_extension": ".py",
   "mimetype": "text/x-python",
   "name": "python",
   "nbconvert_exporter": "python",
   "pygments_lexer": "ipython3",
   "version": "3.7.1"
  }
 },
 "nbformat": 4,
 "nbformat_minor": 1
}
